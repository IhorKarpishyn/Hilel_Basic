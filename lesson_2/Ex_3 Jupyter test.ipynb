{
 "cells": [
  {
   "cell_type": "code",
   "execution_count": 3,
   "id": "bdb33978",
   "metadata": {},
   "outputs": [
    {
     "name": "stdout",
     "output_type": "stream",
     "text": [
      "Enter a four-digit number:1234\n",
      "1\n",
      "2\n",
      "3\n",
      "4\n"
     ]
    }
   ],
   "source": [
    "'''\n",
    "Пользователь вводит 4-хзначное число с клавиатуры. Написать программу, которая выводит цифры, из которого это число состоит. Например пользователь вводит 1234, а программа выводит:\n",
    "1\n",
    "2\n",
    "3\n",
    "4\n",
    "Задачу необходимо решить используя методы деления (подсказка // и % или divmod).\n",
    "Число ВСЕГДА 4-хзначное!\n",
    "'''\n",
    "\n",
    "\n",
    "number = int(input('Enter a four-digit number:'))\n",
    "\n",
    "if 999 < number < 10000:\n",
    "    for i in [1000, 100, 10, 1]:\n",
    "        print(number // i)\n",
    "        number %= i\n",
    "else:\n",
    "    print('Number must be four digits. Bye!')\n",
    "\n"
   ]
  },
  {
   "cell_type": "code",
   "execution_count": null,
   "id": "2da55e85",
   "metadata": {},
   "outputs": [],
   "source": []
  }
 ],
 "metadata": {
  "kernelspec": {
   "display_name": "Python 3 (ipykernel)",
   "language": "python",
   "name": "python3"
  },
  "language_info": {
   "codemirror_mode": {
    "name": "ipython",
    "version": 3
   },
   "file_extension": ".py",
   "mimetype": "text/x-python",
   "name": "python",
   "nbconvert_exporter": "python",
   "pygments_lexer": "ipython3",
   "version": "3.10.5"
  }
 },
 "nbformat": 4,
 "nbformat_minor": 5
}
